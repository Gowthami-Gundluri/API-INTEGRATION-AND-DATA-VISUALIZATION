import requests
import pandas as pd
import matplotlib.pyplot as plt
from datetime import datetime
import seaborn as sns
url = "https://api.coingecko.com/api/v3/coins/bitcoin/market_chart?vs_currency=usd&days=10"
response = requests.get(url)
data = response.json()
#prices = [item[1] for item in data['prices']]
#timestamps = [item[0] for item in data['prices']]



plt.figure(figsize=(10,5))
plt.plot(prices, label='BTC Price (USD)', color='green')
plt.title("Bitcoin Price Trend - Last 10 Days")
plt.xlabel("Time (intervals)")
plt.ylabel("Price (USD)")
plt.legend()
plt.grid(True)
plt.show()


plt.figure(figsize=(12, 6))
plt.plot(timestamps, prices, label='BTC Price (USD)', color='green', linewidth=2)
plt.title("Bitcoin Price Trend - Last 10 Days", fontsize=14)
plt.xlabel("Date")
plt.ylabel("Price (USD)")
plt.xticks(rotation=45)
plt.grid(True)
plt.legend()
plt.tight_layout()
plt.show()
